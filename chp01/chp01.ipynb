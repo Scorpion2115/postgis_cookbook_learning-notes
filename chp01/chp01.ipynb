{
 "cells": [
  {
   "cell_type": "code",
   "execution_count": 1,
   "metadata": {},
   "outputs": [],
   "source": [
    "import pandas as pd\n",
    "from sqlalchemy import create_engine\n",
    "import psycopg2\n",
    "import pg8000\n",
    "\n",
    "from tkinter import Tk\n",
    "from tkinter.filedialog import askdirectory, askopenfilename\n",
    "\n",
    "from tqdm import tqdm"
   ]
  },
  {
   "cell_type": "markdown",
   "metadata": {},
   "source": [
    "# Setup PostgreSQL connection"
   ]
  },
  {
   "cell_type": "code",
   "execution_count": 12,
   "metadata": {},
   "outputs": [
    {
     "name": "stdout",
     "output_type": "stream",
     "text": [
      "{'user': 'evan', 'password': 'Discretionary@020', 'host': 'localhost', 'port': 5432, 'database': 'postgis_cookbook'}\n"
     ]
    }
   ],
   "source": [
    "ev_local = {\n",
    "    'user': 'evan',\n",
    "    'password': 'Discretionary@020',\n",
    "    'host': 'localhost',\n",
    "    'port': 5432,\n",
    "    'database': 'postgis_cookbook'\n",
    "}\n",
    "\n",
    "print(ev_local)"
   ]
  },
  {
   "cell_type": "code",
   "execution_count": 13,
   "metadata": {},
   "outputs": [],
   "source": [
    "# setup connection engine\n",
    "\n",
    "engine = create_engine(str(r\"postgresql+psycopg2://%s:\" + '%s' + \"@%s:%s/%s\")\n",
    "                           % (ev_local['user'], ev_local['password'], ev_local['host'], ev_local['port'], ev_local['database']),\n",
    "                       encoding='latin1')\n"
   ]
  },
  {
   "cell_type": "markdown",
   "metadata": {},
   "source": [
    "# Function import csv to PostGis"
   ]
  },
  {
   "cell_type": "code",
   "execution_count": 4,
   "metadata": {},
   "outputs": [],
   "source": [
    "#https://stackoverflow.com/questions/39494056/progress-bar-for-pandas-dataframe-to-sql\n",
    "\n",
    "def chunker(seq, size):\n",
    "    # from http://stackoverflow.com/a/434328\n",
    "    return (seq[pos:pos + size] for pos in range(0, len(seq), size))"
   ]
  },
  {
   "cell_type": "code",
   "execution_count": 5,
   "metadata": {},
   "outputs": [],
   "source": [
    "def csv2points(df,engine,x,y,table_name,schema,**kwargs):\n",
    "    \n",
    "    chunksize = int(len(df) / 10) # 1%\n",
    "    \n",
    "    with tqdm(total=len(df)) as pbar:\n",
    "        for i, cdf in enumerate(chunker(df, chunksize)):\n",
    "            replace = \"replace\" if i == 0 else \"append\"\n",
    "            cdf.to_sql(name= table_name, con=engine, schema = schema, if_exists=replace, index=False)\n",
    "#             df.to_sql(name= table_name, con=engine, schema = schema, if_exists='replace', index=False)\n",
    "            pbar.update(chunksize)\n",
    "    \n",
    "    if bool(kwargs) == True:   \n",
    "        add_pk=  'ALTER TABLE ' + schema + '.'+ table_name + ' ADD PRIMARY KEY ('+  kwargs['pk'] + ');'\n",
    "        print (add_pk)\n",
    "        \n",
    "        add_constraint = 'ALTER TABLE ' + schema + '.'+ table_name + ' ADD CONSTRAINT pk PRIMARY KEY (' + kwargs['pk'] + ');'\n",
    "        print (add_constraint)\n",
    "        \n",
    "        with engine.connect() as con:\n",
    "#             con.execute(add_pk)\n",
    "            con.execute(add_constraint)\n",
    "\n",
    "    # add column with geometry type\n",
    "    add_col = 'ALTER TABLE ' + schema + '.'+ table_name + ' ADD COLUMN geo_loc geometry(POINT, 4326);'\n",
    "\n",
    "    # Import the points in the geometric column using the ST_MakePoint\n",
    "#     update_col = 'UPDATE ' + schema + '.'+ table_name + ' SET geo_loc = ST_SetSRID(ST_MakePoint(SiteLongitude_WGS84,SiteLatitude_WGS84), 4326);'\n",
    "    update_col = 'UPDATE ' + schema + '.'+ table_name + ' SET geo_loc = ST_SetSRID(ST_MakePoint(' + x +',' + y + '), 4326);'\n",
    "\n",
    "    # create a spatial index for the geometric column of the table: \n",
    "    idx_col = 'CREATE INDEX idx_' + table_name + ' ON ' + schema + '.'+ table_name +' USING GIST (geo_loc)';  \n",
    "#     print (idx_col)\n",
    "\n",
    "    with engine.connect() as con:\n",
    "        con.execute(add_col)\n",
    "        con.execute(update_col)\n",
    "        con.execute(idx_col)\n",
    "        con.close()\n",
    "    print('Complete!')\n"
   ]
  },
  {
   "cell_type": "markdown",
   "metadata": {},
   "source": [
    "# Load firenews.csv Dataset"
   ]
  },
  {
   "cell_type": "code",
   "execution_count": 14,
   "metadata": {},
   "outputs": [
    {
     "data": {
      "text/html": [
       "<div>\n",
       "<style scoped>\n",
       "    .dataframe tbody tr th:only-of-type {\n",
       "        vertical-align: middle;\n",
       "    }\n",
       "\n",
       "    .dataframe tbody tr th {\n",
       "        vertical-align: top;\n",
       "    }\n",
       "\n",
       "    .dataframe thead th {\n",
       "        text-align: right;\n",
       "    }\n",
       "</style>\n",
       "<table border=\"1\" class=\"dataframe\">\n",
       "  <thead>\n",
       "    <tr style=\"text-align: right;\">\n",
       "      <th></th>\n",
       "      <th>x</th>\n",
       "      <th>y</th>\n",
       "      <th>place</th>\n",
       "      <th>size</th>\n",
       "      <th>update</th>\n",
       "      <th>startdate</th>\n",
       "      <th>enddate</th>\n",
       "      <th>title</th>\n",
       "      <th>url</th>\n",
       "    </tr>\n",
       "  </thead>\n",
       "  <tbody>\n",
       "    <tr>\n",
       "      <th>0</th>\n",
       "      <td>2.209300</td>\n",
       "      <td>44.591830</td>\n",
       "      <td>Boisse-Penchot</td>\n",
       "      <td>50.0</td>\n",
       "      <td>2010/08/11</td>\n",
       "      <td>2010/08/10</td>\n",
       "      <td>2010/08/10</td>\n",
       "      <td>50 hectares ravagés par les flammes</td>\n",
       "      <td>http://www.ladepeche.fr/article/2010/08/11/886...</td>\n",
       "    </tr>\n",
       "    <tr>\n",
       "      <th>1</th>\n",
       "      <td>-6.814122</td>\n",
       "      <td>41.839924</td>\n",
       "      <td>Bragança</td>\n",
       "      <td>NaN</td>\n",
       "      <td>2011/07/30</td>\n",
       "      <td>2011/07/29</td>\n",
       "      <td>2011/07/29</td>\n",
       "      <td>Incêndios: Dominado fogo de Bragança - Protecç...</td>\n",
       "      <td>http://aeiou.expresso.pt/incendios-dominado-fo...</td>\n",
       "    </tr>\n",
       "    <tr>\n",
       "      <th>2</th>\n",
       "      <td>-6.814122</td>\n",
       "      <td>41.839924</td>\n",
       "      <td>Bragança</td>\n",
       "      <td>NaN</td>\n",
       "      <td>2011/07/30</td>\n",
       "      <td>2011/07/29</td>\n",
       "      <td>2011/07/29</td>\n",
       "      <td>Incêndios: 30 bombeiros combatem chamas em Bra...</td>\n",
       "      <td>http://www.dn.pt/Inicio/interior.aspx?content_...</td>\n",
       "    </tr>\n",
       "    <tr>\n",
       "      <th>3</th>\n",
       "      <td>27.201504</td>\n",
       "      <td>38.442517</td>\n",
       "      <td>Izmir</td>\n",
       "      <td>NaN</td>\n",
       "      <td>2011/08/16</td>\n",
       "      <td>2011/08/15</td>\n",
       "      <td>2011/08/15</td>\n",
       "      <td>İzmir'deki Orman Yangınları - Son Dakika</td>\n",
       "      <td>http://www.sondakika.com/haber-izmir-deki-orma...</td>\n",
       "    </tr>\n",
       "    <tr>\n",
       "      <th>4</th>\n",
       "      <td>23.648596</td>\n",
       "      <td>35.495426</td>\n",
       "      <td>Kissamos</td>\n",
       "      <td>NaN</td>\n",
       "      <td>2012/07/19</td>\n",
       "      <td>2012/07/18</td>\n",
       "      <td>2012/07/19</td>\n",
       "      <td>Χανιά: Σε ύφεση η φωτιά στην Κίσαμο - Εξπρές</td>\n",
       "      <td>http://www.express.gr/news/ellada/628375oz_201...</td>\n",
       "    </tr>\n",
       "  </tbody>\n",
       "</table>\n",
       "</div>"
      ],
      "text/plain": [
       "           x          y           place  size      update   startdate  \\\n",
       "0   2.209300  44.591830  Boisse-Penchot  50.0  2010/08/11  2010/08/10   \n",
       "1  -6.814122  41.839924        Bragança   NaN  2011/07/30  2011/07/29   \n",
       "2  -6.814122  41.839924        Bragança   NaN  2011/07/30  2011/07/29   \n",
       "3  27.201504  38.442517          Izmir    NaN  2011/08/16  2011/08/15   \n",
       "4  23.648596  35.495426       Kissamos    NaN  2012/07/19  2012/07/18   \n",
       "\n",
       "      enddate                                              title  \\\n",
       "0  2010/08/10                50 hectares ravagés par les flammes   \n",
       "1  2011/07/29  Incêndios: Dominado fogo de Bragança - Protecç...   \n",
       "2  2011/07/29  Incêndios: 30 bombeiros combatem chamas em Bra...   \n",
       "3  2011/08/15           İzmir'deki Orman Yangınları - Son Dakika   \n",
       "4  2012/07/19       Χανιά: Σε ύφεση η φωτιά στην Κίσαμο - Εξπρές   \n",
       "\n",
       "                                                 url  \n",
       "0  http://www.ladepeche.fr/article/2010/08/11/886...  \n",
       "1  http://aeiou.expresso.pt/incendios-dominado-fo...  \n",
       "2  http://www.dn.pt/Inicio/interior.aspx?content_...  \n",
       "3  http://www.sondakika.com/haber-izmir-deki-orma...  \n",
       "4  http://www.express.gr/news/ellada/628375oz_201...  "
      ]
     },
     "execution_count": 14,
     "metadata": {},
     "output_type": "execute_result"
    }
   ],
   "source": [
    "root = Tk()\n",
    "root.withdraw()\n",
    "data = askopenfilename(parent=root, title='Select the csv file')\n",
    "\n",
    "df = pd.read_csv(data)\n",
    "df.head()"
   ]
  },
  {
   "cell_type": "code",
   "execution_count": 15,
   "metadata": {},
   "outputs": [
    {
     "name": "stderr",
     "output_type": "stream",
     "text": [
      "3300it [00:00, 6666.82it/s]                          "
     ]
    },
    {
     "name": "stdout",
     "output_type": "stream",
     "text": [
      "Complete!\n"
     ]
    },
    {
     "name": "stderr",
     "output_type": "stream",
     "text": [
      "\n"
     ]
    }
   ],
   "source": [
    "csv2points(df,engine,'x','y','firenews','chp01')"
   ]
  },
  {
   "cell_type": "markdown",
   "metadata": {},
   "source": [
    "# Load global_24h.csv Dataset"
   ]
  },
  {
   "cell_type": "code",
   "execution_count": 6,
   "metadata": {},
   "outputs": [],
   "source": [
    "root = Tk()\n",
    "root.withdraw()\n",
    "data = askopenfilename(parent=root, title='Select the csv file')"
   ]
  },
  {
   "cell_type": "code",
   "execution_count": 7,
   "metadata": {},
   "outputs": [
    {
     "data": {
      "text/html": [
       "<div>\n",
       "<style scoped>\n",
       "    .dataframe tbody tr th:only-of-type {\n",
       "        vertical-align: middle;\n",
       "    }\n",
       "\n",
       "    .dataframe tbody tr th {\n",
       "        vertical-align: top;\n",
       "    }\n",
       "\n",
       "    .dataframe thead th {\n",
       "        text-align: right;\n",
       "    }\n",
       "</style>\n",
       "<table border=\"1\" class=\"dataframe\">\n",
       "  <thead>\n",
       "    <tr style=\"text-align: right;\">\n",
       "      <th></th>\n",
       "      <th>latitude</th>\n",
       "      <th>longitude</th>\n",
       "      <th>brightness</th>\n",
       "      <th>scan</th>\n",
       "      <th>track</th>\n",
       "      <th>acq_date</th>\n",
       "      <th>acq_time</th>\n",
       "      <th>satellite</th>\n",
       "      <th>confidence</th>\n",
       "      <th>version</th>\n",
       "      <th>bright_t31</th>\n",
       "      <th>frp</th>\n",
       "    </tr>\n",
       "  </thead>\n",
       "  <tbody>\n",
       "    <tr>\n",
       "      <th>0</th>\n",
       "      <td>-23.386</td>\n",
       "      <td>-46.197</td>\n",
       "      <td>307.5</td>\n",
       "      <td>1.1</td>\n",
       "      <td>1.0</td>\n",
       "      <td>2012-08-20</td>\n",
       "      <td>140</td>\n",
       "      <td>T</td>\n",
       "      <td>54</td>\n",
       "      <td>5.0</td>\n",
       "      <td>285.7</td>\n",
       "      <td>16.5</td>\n",
       "    </tr>\n",
       "    <tr>\n",
       "      <th>1</th>\n",
       "      <td>-22.952</td>\n",
       "      <td>-47.574</td>\n",
       "      <td>330.1</td>\n",
       "      <td>1.2</td>\n",
       "      <td>1.1</td>\n",
       "      <td>2012-08-20</td>\n",
       "      <td>140</td>\n",
       "      <td>T</td>\n",
       "      <td>100</td>\n",
       "      <td>5.0</td>\n",
       "      <td>285.2</td>\n",
       "      <td>53.9</td>\n",
       "    </tr>\n",
       "    <tr>\n",
       "      <th>2</th>\n",
       "      <td>-23.726</td>\n",
       "      <td>-56.108</td>\n",
       "      <td>333.3</td>\n",
       "      <td>4.7</td>\n",
       "      <td>2.0</td>\n",
       "      <td>2012-08-20</td>\n",
       "      <td>140</td>\n",
       "      <td>T</td>\n",
       "      <td>100</td>\n",
       "      <td>5.0</td>\n",
       "      <td>283.5</td>\n",
       "      <td>404.1</td>\n",
       "    </tr>\n",
       "    <tr>\n",
       "      <th>3</th>\n",
       "      <td>-23.729</td>\n",
       "      <td>-56.155</td>\n",
       "      <td>311.8</td>\n",
       "      <td>4.7</td>\n",
       "      <td>2.0</td>\n",
       "      <td>2012-08-20</td>\n",
       "      <td>140</td>\n",
       "      <td>T</td>\n",
       "      <td>61</td>\n",
       "      <td>5.0</td>\n",
       "      <td>272.0</td>\n",
       "      <td>143.1</td>\n",
       "    </tr>\n",
       "    <tr>\n",
       "      <th>4</th>\n",
       "      <td>-23.708</td>\n",
       "      <td>-56.110</td>\n",
       "      <td>335.7</td>\n",
       "      <td>4.7</td>\n",
       "      <td>2.0</td>\n",
       "      <td>2012-08-20</td>\n",
       "      <td>140</td>\n",
       "      <td>T</td>\n",
       "      <td>100</td>\n",
       "      <td>5.0</td>\n",
       "      <td>285.2</td>\n",
       "      <td>439.5</td>\n",
       "    </tr>\n",
       "  </tbody>\n",
       "</table>\n",
       "</div>"
      ],
      "text/plain": [
       "   latitude  longitude  brightness  scan  track    acq_date  acq_time  \\\n",
       "0   -23.386    -46.197       307.5   1.1    1.0  2012-08-20       140   \n",
       "1   -22.952    -47.574       330.1   1.2    1.1  2012-08-20       140   \n",
       "2   -23.726    -56.108       333.3   4.7    2.0  2012-08-20       140   \n",
       "3   -23.729    -56.155       311.8   4.7    2.0  2012-08-20       140   \n",
       "4   -23.708    -56.110       335.7   4.7    2.0  2012-08-20       140   \n",
       "\n",
       "  satellite  confidence  version  bright_t31    frp  \n",
       "0         T          54      5.0       285.7   16.5  \n",
       "1         T         100      5.0       285.2   53.9  \n",
       "2         T         100      5.0       283.5  404.1  \n",
       "3         T          61      5.0       272.0  143.1  \n",
       "4         T         100      5.0       285.2  439.5  "
      ]
     },
     "execution_count": 7,
     "metadata": {},
     "output_type": "execute_result"
    }
   ],
   "source": [
    "df = pd.read_csv(data)\n",
    "df.head()"
   ]
  },
  {
   "cell_type": "code",
   "execution_count": 11,
   "metadata": {},
   "outputs": [
    {
     "name": "stderr",
     "output_type": "stream",
     "text": [
      "33352it [00:04, 7238.76it/s]                           \n"
     ]
    },
    {
     "name": "stdout",
     "output_type": "stream",
     "text": [
      "Complete!\n"
     ]
    }
   ],
   "source": [
    "csv2points(df,engine,'longitude','latitude','global_24h','chp01')"
   ]
  },
  {
   "cell_type": "code",
   "execution_count": null,
   "metadata": {},
   "outputs": [],
   "source": []
  }
 ],
 "metadata": {
  "kernelspec": {
   "display_name": "ev-geospatial",
   "language": "python",
   "name": "geospatial"
  },
  "language_info": {
   "codemirror_mode": {
    "name": "ipython",
    "version": 3
   },
   "file_extension": ".py",
   "mimetype": "text/x-python",
   "name": "python",
   "nbconvert_exporter": "python",
   "pygments_lexer": "ipython3",
   "version": "3.7.6"
  }
 },
 "nbformat": 4,
 "nbformat_minor": 4
}
